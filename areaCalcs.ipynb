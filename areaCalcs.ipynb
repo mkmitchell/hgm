{
 "cells": [
  {
   "cell_type": "code",
   "execution_count": 8,
   "id": "1afd4676-8eb9-4908-9a66-3180e57c1f0a",
   "metadata": {
    "tags": []
   },
   "outputs": [],
   "source": [
    "# Calculate area of different features within Yazoo study area and DU focus areas for Yazoo HGM mitigation project\n",
    "\n",
    "# Palustrine, Riverine, Lacustrine wetlands\n",
    "# Hydrid soils\n",
    "# Crops and Woody wetlands\n",
    "# Elevation from 3dep (<=90', 90 to 93)\n",
    "\n",
    "import duckdb\n",
    "import os\n",
    "import geopandas as gpd\n",
    "import pandas as pd\n",
    "from threading import Thread, current_thread\n",
    "#FORCE INSTALL spatial FROM 'http://nightly-extensions.duckdb.org';\n",
    "con = duckdb.connect()\n",
    "con.install_extension(\"httpfs\")\n",
    "con.load_extension(\"httpfs\")\n",
    "con.install_extension(\"spatial\")\n",
    "con.load_extension(\"spatial\")\n",
    "con.install_extension(\"azure\")\n",
    "con.load_extension(\"azure\")\n",
    "\n",
    "crs5070 = '+proj=aea +lat_0=23 +lon_0=-96 +lat_1=29.5 +lat_2=45.5 +x_0=0 +y_0=0 +ellps=GRS80 +towgs84=1,1,-1,0,0,0,0 +units=m +no_defs +type=crs'\n",
    "crs4326 = '+proj=longlat +datum=WGS84 +no_defs +type=crs'"
   ]
  },
  {
   "cell_type": "code",
   "execution_count": 9,
   "id": "34c2f434-7ab5-4d93-95fe-6574252e386d",
   "metadata": {
    "tags": []
   },
   "outputs": [
    {
     "data": {
      "text/plain": [
       "┌──────────────────────────────────────────────────────────────────────────────────────────────────────────────────────┐\n",
       "│                                                       geometry                                                       │\n",
       "│                                                       geometry                                                       │\n",
       "├──────────────────────────────────────────────────────────────────────────────────────────────────────────────────────┤\n",
       "│ MULTIPOLYGON (((466516.88659078954 1057423.4977493424, 466609.4326652936 1057423.0074608314, 467146.73437129526 10…  │\n",
       "└──────────────────────────────────────────────────────────────────────────────────────────────────────────────────────┘"
      ]
     },
     "execution_count": 9,
     "metadata": {},
     "output_type": "execute_result"
    }
   ],
   "source": [
    "con.sql(\"\"\"CREATE OR REPLACE TABLE aoi AS SELECT * from 'D:\\\\gis\\\\projects\\\\YazooHGM\\\\ysa_mitigation_focus_areas.shp'\"\"\")\n",
    "con.sql(\"\"\"CREATE OR REPLACE TABLE aoi AS SELECT ST_Union_Agg(ST_Transform(geom, '{0}', '{1}')) AS geometry from aoi\"\"\".format(crs4326, crs5070))\n",
    "con.sql('select * from aoi')"
   ]
  },
  {
   "cell_type": "code",
   "execution_count": 10,
   "id": "c5a6239f-f032-42d8-97b3-d98b76bb25dd",
   "metadata": {
    "tags": []
   },
   "outputs": [],
   "source": [
    "con.sql(\"\"\"CREATE OR REPLACE TABLE yazoo AS SELECT geometry from 'D:\\\\gis\\\\projects\\\\YazooHGM\\\\YazooAOI.parquet'\"\"\")"
   ]
  },
  {
   "cell_type": "code",
   "execution_count": 72,
   "id": "18360199-ef0c-4401-a9f9-605eb7336d54",
   "metadata": {
    "tags": []
   },
   "outputs": [
    {
     "data": {
      "application/vnd.jupyter.widget-view+json": {
       "model_id": "daf656f1f6814d8090855955debdcef1",
       "version_major": 2,
       "version_minor": 0
      },
      "text/plain": [
       "FloatProgress(value=0.0, layout=Layout(width='auto'), style=ProgressStyle(bar_color='black'))"
      ]
     },
     "metadata": {},
     "output_type": "display_data"
    }
   ],
   "source": [
    "con.sql(\"\"\"CREATE OR REPLACE TABLE mswet AS SELECT * from read_parquet('https://data.source.coop/giswqs/nwi/wetlands/MS_Wetlands.parquet')\"\"\")"
   ]
  },
  {
   "cell_type": "code",
   "execution_count": 74,
   "id": "bbc9f2a3-b910-4923-a8bc-479a443bdc38",
   "metadata": {
    "tags": []
   },
   "outputs": [],
   "source": [
    "con.sql(\"\"\"ALTER TABLE mswet ADD COLUMN wettype VARCHAR\"\"\")\n",
    "con.sql(\"\"\"UPDATE mswet SET wettype = left(ATTRIBUTE ,1)\"\"\")"
   ]
  },
  {
   "cell_type": "code",
   "execution_count": 79,
   "id": "798b29e8-4df4-4788-9e87-d9cb452cf083",
   "metadata": {
    "tags": []
   },
   "outputs": [
    {
     "data": {
      "application/vnd.jupyter.widget-view+json": {
       "model_id": "814e3b15b850422dbb213a81e00726cd",
       "version_major": 2,
       "version_minor": 0
      },
      "text/plain": [
       "FloatProgress(value=0.0, layout=Layout(width='auto'), style=ProgressStyle(bar_color='black'))"
      ]
     },
     "metadata": {},
     "output_type": "display_data"
    },
    {
     "data": {
      "text/plain": [
       "┌─────────┬────────────────────┐\n",
       "│ wettype │       acres        │\n",
       "│ varchar │       double       │\n",
       "├─────────┼────────────────────┤\n",
       "│ L       │  59.03358544806851 │\n",
       "│ P       │  2498.440606300924 │\n",
       "│ R       │ 319.41980569934873 │\n",
       "└─────────┴────────────────────┘"
      ]
     },
     "execution_count": 79,
     "metadata": {},
     "output_type": "execute_result"
    }
   ],
   "source": [
    "con.sql(\"\"\"CREATE OR REPLACE TABLE mswetselect AS (SELECT wettype, ST_Intersection(ST_GeomfromWKB(mswet.geometry), aoi.geometry) as geometry FROM mswet JOIN aoi ON ST_Intersects(ST_GeomfromWKB(mswet.geometry), aoi.geometry))\"\"\")\n",
    "con.sql(\"\"\"SELECT wettype, sum(st_area(geometry)*0.000247105) as acres FROM mswetselect GROUP BY wettype\"\"\")"
   ]
  },
  {
   "cell_type": "code",
   "execution_count": null,
   "id": "af822f59-6601-452a-b189-61fa8a209894",
   "metadata": {},
   "outputs": [],
   "source": []
  }
 ],
 "metadata": {
  "kernelspec": {
   "display_name": "Python 3 (ipykernel)",
   "language": "python",
   "name": "python3"
  },
  "language_info": {
   "codemirror_mode": {
    "name": "ipython",
    "version": 3
   },
   "file_extension": ".py",
   "mimetype": "text/x-python",
   "name": "python",
   "nbconvert_exporter": "python",
   "pygments_lexer": "ipython3",
   "version": "3.10.13"
  }
 },
 "nbformat": 4,
 "nbformat_minor": 5
}
