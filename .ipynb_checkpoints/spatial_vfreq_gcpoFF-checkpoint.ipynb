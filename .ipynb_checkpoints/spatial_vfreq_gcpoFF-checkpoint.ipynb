{
 "cells": [
  {
   "cell_type": "code",
   "execution_count": 1,
   "id": "6ef97125-ab8a-41bc-954c-e53e36d9d0a9",
   "metadata": {},
   "outputs": [],
   "source": [
    "# Calculate vflood for HGM given file input\n",
    "import geopandas as gpd\n",
    "import os\n",
    "import rasterio\n",
    "from rasterio.mask import mask\n",
    "from shapely.geometry import shape\n",
    "from rasterio.plot import show\n",
    "import numpy as np"
   ]
  },
  {
   "cell_type": "code",
   "execution_count": 2,
   "id": "00638ac5-6d52-4ed0-94bc-f487285ebbde",
   "metadata": {},
   "outputs": [],
   "source": [
    "savefile = 'exampleprojects'\n",
    "\n",
    "workspace = r'D:\\gis\\projects\\YazooHGM\\exampleprojects'\n",
    "foi = os.path.join(workspace, 'examples.shp')\n",
    "\n",
    "\n",
    "foi = gpd.read_file(foi).to_crs(5070)\n",
    "foi['uid'] = foi.index.map(hash)\n",
    "\n",
    "pv = os.path.join(workspace, 'Yazoo_PNV.shp')\n",
    "\n",
    "pv = gpd.read_file(pv).to_crs(5070)\n",
    "\n",
    "flood = os.path.join(workspace, 'HGM_5year.tif')"
   ]
  },
  {
   "cell_type": "code",
   "execution_count": 3,
   "id": "7bb19225-892f-4a5d-86e8-539d2c6cb864",
   "metadata": {},
   "outputs": [],
   "source": [
    "flood = rasterio.open(flood)\n",
    "flood, flood_transform =rasterio.mask.mask(flood, foi.dissolve().geometry, crop=True)"
   ]
  },
  {
   "cell_type": "code",
   "execution_count": 4,
   "id": "a3e609e3-9540-457a-a869-1902f9204ab2",
   "metadata": {},
   "outputs": [
    {
     "data": {
      "image/png": "[encoded data removed]",
      "text/plain": [
       "<Figure size 640x480 with 1 Axes>"
      ]
     },
     "metadata": {},
     "output_type": "display_data"
    },
    {
     "data": {
      "text/plain": [
       "<Axes: >"
      ]
     },
     "execution_count": 4,
     "metadata": {},
     "output_type": "execute_result"
    }
   ],
   "source": [
    "show(flood)"
   ]
  },
  {
   "cell_type": "code",
   "execution_count": 5,
   "id": "804fc7ae-7c10-4e99-9b8b-e91e39a92bcc",
   "metadata": {},
   "outputs": [],
   "source": [
    "shapes = rasterio.features.shapes(flood[0], transform=flood_transform, mask=flood[0] <=5)\n",
    "geoms = []\n",
    "values = []\n",
    "\n",
    "for geom,value in shapes:\n",
    "    geoms.append(shape(geom))\n",
    "    values.append(value)\n",
    "# Create a GeoDataFrame from the vector polygons\n",
    "#gdf_vector = gpd.GeoDataFrame({'geometry': [shape(geom) for geom, value in shapes]})\n",
    "flood_vector = gpd.GeoDataFrame({'geometry': geoms, 'value': values})\n",
    "flood_vector = flood_vector.set_crs(5070)"
   ]
  },
  {
   "cell_type": "code",
   "execution_count": 6,
   "id": "be09a704-b163-494d-9a1a-538527299b3b",
   "metadata": {},
   "outputs": [],
   "source": [
    "foipv = gpd.overlay(foi, pv, how='intersection')"
   ]
  },
  {
   "cell_type": "code",
   "execution_count": 7,
   "id": "7fd186f7-8a75-414b-ad6e-2df886572a9d",
   "metadata": {
    "tags": []
   },
   "outputs": [],
   "source": [
    "foipv['veg']=foipv['HGM'].str.split('-', expand=True)[0]"
   ]
  },
  {
   "cell_type": "code",
   "execution_count": 8,
   "id": "f9a1e2e8-7e1b-4f5b-bc3d-8c28dd4bb095",
   "metadata": {},
   "outputs": [],
   "source": [
    "foipv = foipv.dissolve(by=['uid', 'veg'])"
   ]
  },
  {
   "cell_type": "code",
   "execution_count": 9,
   "id": "03f2d13d-a385-46d1-a0a8-8e43202b0d63",
   "metadata": {
    "tags": []
   },
   "outputs": [],
   "source": [
    "foiflood = gpd.sjoin(foipv, flood_vector, how='left', predicate='intersects')"
   ]
  },
  {
   "cell_type": "code",
   "execution_count": 10,
   "id": "5b997fb9-3aef-42f1-bcd2-6d73c6040739",
   "metadata": {},
   "outputs": [
    {
     "data": {
      "text/html": [
       "<div>\n",
       "<style scoped>\n",
       "    .dataframe tbody tr th:only-of-type {\n",
       "        vertical-align: middle;\n",
       "    }\n",
       "\n",
       "    .dataframe tbody tr th {\n",
       "        vertical-align: top;\n",
       "    }\n",
       "\n",
       "    .dataframe thead th {\n",
       "        text-align: right;\n",
       "    }\n",
       "</style>\n",
       "<table border=\"1\" class=\"dataframe\">\n",
       "  <thead>\n",
       "    <tr style=\"text-align: right;\">\n",
       "      <th></th>\n",
       "      <th></th>\n",
       "      <th>geometry</th>\n",
       "      <th>Name</th>\n",
       "      <th>HGM</th>\n",
       "      <th>Shape_Leng</th>\n",
       "      <th>Shape_Area</th>\n",
       "      <th>index_right</th>\n",
       "      <th>value</th>\n",
       "      <th>vegtype</th>\n",
       "    </tr>\n",
       "    <tr>\n",
       "      <th>uid</th>\n",
       "      <th>veg</th>\n",
       "      <th></th>\n",
       "      <th></th>\n",
       "      <th></th>\n",
       "      <th></th>\n",
       "      <th></th>\n",
       "      <th></th>\n",
       "      <th></th>\n",
       "      <th></th>\n",
       "    </tr>\n",
       "  </thead>\n",
       "  <tbody>\n",
       "    <tr>\n",
       "      <th rowspan=\"5\" valign=\"top\">0</th>\n",
       "      <th>D</th>\n",
       "      <td>POLYGON Z ((480655.363 1077853.829 0.000, 4807...</td>\n",
       "      <td>HGM example 1</td>\n",
       "      <td>D-3</td>\n",
       "      <td>1.458705e+07</td>\n",
       "      <td>4.712214e+08</td>\n",
       "      <td>1595</td>\n",
       "      <td>0.0</td>\n",
       "      <td>isolated</td>\n",
       "    </tr>\n",
       "    <tr>\n",
       "      <th>D</th>\n",
       "      <td>POLYGON Z ((480655.363 1077853.829 0.000, 4807...</td>\n",
       "      <td>HGM example 1</td>\n",
       "      <td>D-3</td>\n",
       "      <td>1.458705e+07</td>\n",
       "      <td>4.712214e+08</td>\n",
       "      <td>273</td>\n",
       "      <td>1.0</td>\n",
       "      <td>isolated</td>\n",
       "    </tr>\n",
       "    <tr>\n",
       "      <th>F</th>\n",
       "      <td>MULTIPOLYGON Z (((481900.614 1076480.750 0.000...</td>\n",
       "      <td>HGM example 1</td>\n",
       "      <td>F-2</td>\n",
       "      <td>1.127546e+07</td>\n",
       "      <td>1.814280e+09</td>\n",
       "      <td>1595</td>\n",
       "      <td>0.0</td>\n",
       "      <td>flats</td>\n",
       "    </tr>\n",
       "    <tr>\n",
       "      <th>F</th>\n",
       "      <td>MULTIPOLYGON Z (((481900.614 1076480.750 0.000...</td>\n",
       "      <td>HGM example 1</td>\n",
       "      <td>F-2</td>\n",
       "      <td>1.127546e+07</td>\n",
       "      <td>1.814280e+09</td>\n",
       "      <td>289</td>\n",
       "      <td>1.0</td>\n",
       "      <td>flats</td>\n",
       "    </tr>\n",
       "    <tr>\n",
       "      <th>F</th>\n",
       "      <td>MULTIPOLYGON Z (((481900.614 1076480.750 0.000...</td>\n",
       "      <td>HGM example 1</td>\n",
       "      <td>F-2</td>\n",
       "      <td>1.127546e+07</td>\n",
       "      <td>1.814280e+09</td>\n",
       "      <td>161</td>\n",
       "      <td>1.0</td>\n",
       "      <td>flats</td>\n",
       "    </tr>\n",
       "    <tr>\n",
       "      <th>...</th>\n",
       "      <th>...</th>\n",
       "      <td>...</td>\n",
       "      <td>...</td>\n",
       "      <td>...</td>\n",
       "      <td>...</td>\n",
       "      <td>...</td>\n",
       "      <td>...</td>\n",
       "      <td>...</td>\n",
       "      <td>...</td>\n",
       "    </tr>\n",
       "    <tr>\n",
       "      <th rowspan=\"5\" valign=\"top\">4</th>\n",
       "      <th>RB</th>\n",
       "      <td>MULTIPOLYGON Z (((469239.019 1057236.979 0.000...</td>\n",
       "      <td>HGM example 5</td>\n",
       "      <td>RB-1</td>\n",
       "      <td>3.711193e+06</td>\n",
       "      <td>1.647606e+08</td>\n",
       "      <td>1312</td>\n",
       "      <td>2.0</td>\n",
       "      <td>backwater</td>\n",
       "    </tr>\n",
       "    <tr>\n",
       "      <th>RB</th>\n",
       "      <td>MULTIPOLYGON Z (((469239.019 1057236.979 0.000...</td>\n",
       "      <td>HGM example 5</td>\n",
       "      <td>RB-1</td>\n",
       "      <td>3.711193e+06</td>\n",
       "      <td>1.647606e+08</td>\n",
       "      <td>1301</td>\n",
       "      <td>0.0</td>\n",
       "      <td>backwater</td>\n",
       "    </tr>\n",
       "    <tr>\n",
       "      <th>RB</th>\n",
       "      <td>MULTIPOLYGON Z (((469239.019 1057236.979 0.000...</td>\n",
       "      <td>HGM example 5</td>\n",
       "      <td>RB-1</td>\n",
       "      <td>3.711193e+06</td>\n",
       "      <td>1.647606e+08</td>\n",
       "      <td>1292</td>\n",
       "      <td>0.0</td>\n",
       "      <td>backwater</td>\n",
       "    </tr>\n",
       "    <tr>\n",
       "      <th>RB</th>\n",
       "      <td>MULTIPOLYGON Z (((469239.019 1057236.979 0.000...</td>\n",
       "      <td>HGM example 5</td>\n",
       "      <td>RB-1</td>\n",
       "      <td>3.711193e+06</td>\n",
       "      <td>1.647606e+08</td>\n",
       "      <td>1286</td>\n",
       "      <td>0.0</td>\n",
       "      <td>backwater</td>\n",
       "    </tr>\n",
       "    <tr>\n",
       "      <th>RB</th>\n",
       "      <td>MULTIPOLYGON Z (((469239.019 1057236.979 0.000...</td>\n",
       "      <td>HGM example 5</td>\n",
       "      <td>RB-1</td>\n",
       "      <td>3.711193e+06</td>\n",
       "      <td>1.647606e+08</td>\n",
       "      <td>1595</td>\n",
       "      <td>0.0</td>\n",
       "      <td>backwater</td>\n",
       "    </tr>\n",
       "  </tbody>\n",
       "</table>\n",
       "<p>1725 rows × 8 columns</p>\n",
       "</div>"
      ],
      "text/plain": [
       "                                                  geometry           Name  \\\n",
       "uid veg                                                                     \n",
       "0   D    POLYGON Z ((480655.363 1077853.829 0.000, 4807...  HGM example 1   \n",
       "    D    POLYGON Z ((480655.363 1077853.829 0.000, 4807...  HGM example 1   \n",
       "    F    MULTIPOLYGON Z (((481900.614 1076480.750 0.000...  HGM example 1   \n",
       "    F    MULTIPOLYGON Z (((481900.614 1076480.750 0.000...  HGM example 1   \n",
       "    F    MULTIPOLYGON Z (((481900.614 1076480.750 0.000...  HGM example 1   \n",
       "...                                                    ...            ...   \n",
       "4   RB   MULTIPOLYGON Z (((469239.019 1057236.979 0.000...  HGM example 5   \n",
       "    RB   MULTIPOLYGON Z (((469239.019 1057236.979 0.000...  HGM example 5   \n",
       "    RB   MULTIPOLYGON Z (((469239.019 1057236.979 0.000...  HGM example 5   \n",
       "    RB   MULTIPOLYGON Z (((469239.019 1057236.979 0.000...  HGM example 5   \n",
       "    RB   MULTIPOLYGON Z (((469239.019 1057236.979 0.000...  HGM example 5   \n",
       "\n",
       "          HGM    Shape_Leng    Shape_Area  index_right  value    vegtype  \n",
       "uid veg                                                                   \n",
       "0   D     D-3  1.458705e+07  4.712214e+08         1595    0.0   isolated  \n",
       "    D     D-3  1.458705e+07  4.712214e+08          273    1.0   isolated  \n",
       "    F     F-2  1.127546e+07  1.814280e+09         1595    0.0      flats  \n",
       "    F     F-2  1.127546e+07  1.814280e+09          289    1.0      flats  \n",
       "    F     F-2  1.127546e+07  1.814280e+09          161    1.0      flats  \n",
       "...       ...           ...           ...          ...    ...        ...  \n",
       "4   RB   RB-1  3.711193e+06  1.647606e+08         1312    2.0  backwater  \n",
       "    RB   RB-1  3.711193e+06  1.647606e+08         1301    0.0  backwater  \n",
       "    RB   RB-1  3.711193e+06  1.647606e+08         1292    0.0  backwater  \n",
       "    RB   RB-1  3.711193e+06  1.647606e+08         1286    0.0  backwater  \n",
       "    RB   RB-1  3.711193e+06  1.647606e+08         1595    0.0  backwater  \n",
       "\n",
       "[1725 rows x 8 columns]"
      ]
     },
     "execution_count": 10,
     "metadata": {},
     "output_type": "execute_result"
    }
   ],
   "source": [
    "#['flats', 'backwater', 'overbank', 'isolated', 'connected']\n",
    "foiflood['vegtype'] = np.select(\n",
    "    [\n",
    "        foiflood['HGM'].str.contains('F-'), \n",
    "        foiflood['HGM'].str.contains('RB'),\n",
    "        foiflood['HGM'].str.contains('RO'),\n",
    "        foiflood['HGM'].str.contains('D-3'),\n",
    "        foiflood['HGM'].str.contains('D-4'),\n",
    "        foiflood['HGM'].str.contains('D-1'),\n",
    "        foiflood['HGM'].str.contains('D-2')\n",
    "    ], \n",
    "    ['flats', 'backwater', 'overbank','isolated', 'isolated', 'connected', 'connected'], \n",
    "    default='Unknown'\n",
    ")\n",
    "foiflood"
   ]
  },
  {
   "cell_type": "code",
   "execution_count": 11,
   "id": "d1d3a0bc-c1d7-4737-afe3-dc44acd649af",
   "metadata": {
    "tags": []
   },
   "outputs": [],
   "source": [
    "foiflood = foiflood.dissolve(by=['uid', 'vegtype'], aggfunc={'value':'mean'})\n",
    "foiflood = foiflood.reset_index()\n",
    "foiflood = foiflood[foiflood['vegtype']!='Unknown']"
   ]
  },
  {
   "cell_type": "code",
   "execution_count": 12,
   "id": "73331db5-fbda-47e0-9ba0-bff744705639",
   "metadata": {
    "tags": []
   },
   "outputs": [],
   "source": [
    "foiflood = foiflood.rename(columns={'value':'vfreq'})\n",
    "foiflood.to_parquet(os.path.join(workspace,savefile + '_vfreq.parquet'))"
   ]
  },
  {
   "cell_type": "code",
   "execution_count": null,
   "id": "954d2bd6-087e-44cd-bcee-b9dde5549c30",
   "metadata": {},
   "outputs": [],
   "source": []
  }
 ],
 "metadata": {
  "kernelspec": {
   "display_name": "Python 3 (ipykernel)",
   "language": "python",
   "name": "python3"
  },
  "language_info": {
   "codemirror_mode": {
    "name": "ipython",
    "version": 3
   },
   "file_extension": ".py",
   "mimetype": "text/x-python",
   "name": "python",
   "nbconvert_exporter": "python",
   "pygments_lexer": "ipython3",
   "version": "3.10.13"
  }
 },
 "nbformat": 4,
 "nbformat_minor": 5
}
