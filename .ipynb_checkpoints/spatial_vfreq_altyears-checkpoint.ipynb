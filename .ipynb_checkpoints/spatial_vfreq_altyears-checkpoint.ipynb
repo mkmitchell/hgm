{
 "cells": [
  {
   "cell_type": "code",
   "execution_count": 1,
   "id": "6ef97125-ab8a-41bc-954c-e53e36d9d0a9",
   "metadata": {},
   "outputs": [],
   "source": [
    "# Calculate vflood for HGM given file input\n",
    "import geopandas as gpd\n",
    "import os\n",
    "import rasterio\n",
    "from rasterio.mask import mask\n",
    "from shapely.geometry import shape\n",
    "from rasterio.plot import show\n",
    "import numpy as np"
   ]
  },
  {
   "cell_type": "code",
   "execution_count": 3,
   "id": "00638ac5-6d52-4ed0-94bc-f487285ebbde",
   "metadata": {},
   "outputs": [],
   "source": [
    "savefile = 'exampleprojects'\n",
    "\n",
    "workspace = r'D:\\gis\\projects\\YazooHGM\\exampleprojects'\n",
    "foi = os.path.join(workspace, 'examples.shp')\n",
    "\n",
    "\n",
    "foi = gpd.read_file(foi).to_crs(5070)\n",
    "foi['uid'] = foi.index.map(hash)\n",
    "\n",
    "pv = os.path.join(workspace, 'Yazoo_PNV.shp')\n",
    "pv = gpd.read_file(pv).to_crs(5070)\n",
    "\n",
    "flood2 = os.path.join(workspace, 'alt2_2year.tif')\n",
    "flood5 = os.path.join(workspace, 'alt2_2year.tif.tif')"
   ]
  },
  {
   "cell_type": "code",
   "execution_count": 16,
   "id": "7bb19225-892f-4a5d-86e8-539d2c6cb864",
   "metadata": {},
   "outputs": [],
   "source": [
    "flood = rasterio.open(flood2)\n",
    "flood, flood_transform =rasterio.mask.mask(flood, foi.dissolve().geometry, crop=True)"
   ]
  },
  {
   "cell_type": "code",
   "execution_count": 17,
   "id": "a3e609e3-9540-457a-a869-1902f9204ab2",
   "metadata": {},
   "outputs": [
    {
     "data": {
      "image/png": "[encoded data removed]",
      "text/plain": [
       "<Figure size 640x480 with 1 Axes>"
      ]
     },
     "metadata": {},
     "output_type": "display_data"
    },
    {
     "data": {
      "text/plain": [
       "<Axes: >"
      ]
     },
     "execution_count": 17,
     "metadata": {},
     "output_type": "execute_result"
    }
   ],
   "source": [
    "show(flood)"
   ]
  },
  {
   "cell_type": "code",
   "execution_count": 19,
   "id": "804fc7ae-7c10-4e99-9b8b-e91e39a92bcc",
   "metadata": {},
   "outputs": [],
   "source": [
    "shapes = rasterio.features.shapes(flood[0], transform=flood_transform, mask=flood[0]==1)\n",
    "geoms = []\n",
    "values = []\n",
    "\n",
    "for geom,value in shapes:\n",
    "    geoms.append(shape(geom))\n",
    "    values.append(value)\n",
    "# Create a GeoDataFrame from the vector polygons\n",
    "#gdf_vector = gpd.GeoDataFrame({'geometry': [shape(geom) for geom, value in shapes]})\n",
    "flood_vector = gpd.GeoDataFrame({'geometry': geoms, 'value': values})\n",
    "flood_vector = flood_vector.set_crs(5070)"
   ]
  },
  {
   "cell_type": "code",
   "execution_count": 41,
   "id": "be09a704-b163-494d-9a1a-538527299b3b",
   "metadata": {},
   "outputs": [],
   "source": [
    "foipv = gpd.overlay(foi, pv, how='intersection')"
   ]
  },
  {
   "cell_type": "code",
   "execution_count": 42,
   "id": "7fd186f7-8a75-414b-ad6e-2df886572a9d",
   "metadata": {
    "tags": []
   },
   "outputs": [],
   "source": [
    "foipv['veg']=foipv['HGM'].str.split('-', expand=True)[0]"
   ]
  },
  {
   "cell_type": "code",
   "execution_count": 43,
   "id": "f9a1e2e8-7e1b-4f5b-bc3d-8c28dd4bb095",
   "metadata": {},
   "outputs": [],
   "source": [
    "foipv = foipv.dissolve(by=['uid', 'veg'])"
   ]
  },
  {
   "cell_type": "code",
   "execution_count": 44,
   "id": "03f2d13d-a385-46d1-a0a8-8e43202b0d63",
   "metadata": {
    "tags": []
   },
   "outputs": [],
   "source": [
    "#foiflood = gpd.sjoin(foipv, flood_vector, how='left', predicate='intersects')\n",
    "foiflood = gpd.overlay(foipv, flood_vector, how='intersection')"
   ]
  },
  {
   "cell_type": "code",
   "execution_count": 45,
   "id": "5b997fb9-3aef-42f1-bcd2-6d73c6040739",
   "metadata": {},
   "outputs": [],
   "source": [
    "#['flats', 'backwater', 'overbank', 'isolated', 'connected']\n",
    "foiflood['vegtype'] = np.select(\n",
    "    [\n",
    "        foiflood['HGM'].str.contains('F-'), \n",
    "        foiflood['HGM'].str.contains('RB'),\n",
    "        foiflood['HGM'].str.contains('RO'),\n",
    "        foiflood['HGM'].str.contains('D-3'),\n",
    "        foiflood['HGM'].str.contains('D-4'),\n",
    "        foiflood['HGM'].str.contains('D-1'),\n",
    "        foiflood['HGM'].str.contains('D-2')\n",
    "    ], \n",
    "    ['flats', 'backwater', 'overbank','isolated', 'isolated', 'connected', 'connected'], \n",
    "    default='Unknown'\n",
    ")"
   ]
  },
  {
   "cell_type": "code",
   "execution_count": 47,
   "id": "d1d3a0bc-c1d7-4737-afe3-dc44acd649af",
   "metadata": {
    "tags": []
   },
   "outputs": [],
   "source": [
    "foiflood = foiflood.dissolve(by=['Name', 'vegtype'], aggfunc={'value':'mean'})\n",
    "foiflood = foiflood.reset_index()\n",
    "foiflood = foiflood[foiflood['vegtype']!='Unknown']"
   ]
  },
  {
   "cell_type": "code",
   "execution_count": 48,
   "id": "27ccd2af-3923-4814-8677-555aef8beb74",
   "metadata": {
    "tags": []
   },
   "outputs": [
    {
     "data": {
      "text/html": [
       "<div>\n",
       "<style scoped>\n",
       "    .dataframe tbody tr th:only-of-type {\n",
       "        vertical-align: middle;\n",
       "    }\n",
       "\n",
       "    .dataframe tbody tr th {\n",
       "        vertical-align: top;\n",
       "    }\n",
       "\n",
       "    .dataframe thead th {\n",
       "        text-align: right;\n",
       "    }\n",
       "</style>\n",
       "<table border=\"1\" class=\"dataframe\">\n",
       "  <thead>\n",
       "    <tr style=\"text-align: right;\">\n",
       "      <th></th>\n",
       "      <th>Name</th>\n",
       "      <th>vegtype</th>\n",
       "      <th>geometry</th>\n",
       "      <th>value</th>\n",
       "    </tr>\n",
       "  </thead>\n",
       "  <tbody>\n",
       "    <tr>\n",
       "      <th>0</th>\n",
       "      <td>HGM example 1</td>\n",
       "      <td>backwater</td>\n",
       "      <td>MULTIPOLYGON Z (((481862.926 1076808.525 0.000...</td>\n",
       "      <td>1.0</td>\n",
       "    </tr>\n",
       "    <tr>\n",
       "      <th>1</th>\n",
       "      <td>HGM example 1</td>\n",
       "      <td>flats</td>\n",
       "      <td>POLYGON Z ((480221.647 1078235.383 0.000, 4802...</td>\n",
       "      <td>1.0</td>\n",
       "    </tr>\n",
       "    <tr>\n",
       "      <th>2</th>\n",
       "      <td>HGM example 1</td>\n",
       "      <td>isolated</td>\n",
       "      <td>POLYGON Z ((480656.799 1077857.039 0.000, 4806...</td>\n",
       "      <td>1.0</td>\n",
       "    </tr>\n",
       "    <tr>\n",
       "      <th>4</th>\n",
       "      <td>HGM example 2</td>\n",
       "      <td>backwater</td>\n",
       "      <td>MULTIPOLYGON Z (((483415.909 1071063.034 0.000...</td>\n",
       "      <td>1.0</td>\n",
       "    </tr>\n",
       "    <tr>\n",
       "      <th>5</th>\n",
       "      <td>HGM example 2</td>\n",
       "      <td>isolated</td>\n",
       "      <td>MULTIPOLYGON Z (((484032.000 1069235.548 0.000...</td>\n",
       "      <td>1.0</td>\n",
       "    </tr>\n",
       "    <tr>\n",
       "      <th>6</th>\n",
       "      <td>HGM example 3</td>\n",
       "      <td>backwater</td>\n",
       "      <td>MULTIPOLYGON Z (((483985.771 1061699.559 0.000...</td>\n",
       "      <td>1.0</td>\n",
       "    </tr>\n",
       "    <tr>\n",
       "      <th>7</th>\n",
       "      <td>HGM example 3</td>\n",
       "      <td>overbank</td>\n",
       "      <td>MULTIPOLYGON Z (((483722.340 1061666.031 0.000...</td>\n",
       "      <td>1.0</td>\n",
       "    </tr>\n",
       "    <tr>\n",
       "      <th>8</th>\n",
       "      <td>HGM example 4</td>\n",
       "      <td>backwater</td>\n",
       "      <td>MULTIPOLYGON Z (((468168.234 1062681.017 0.000...</td>\n",
       "      <td>1.0</td>\n",
       "    </tr>\n",
       "    <tr>\n",
       "      <th>9</th>\n",
       "      <td>HGM example 4</td>\n",
       "      <td>flats</td>\n",
       "      <td>MULTIPOLYGON Z (((468064.602 1062726.737 0.000...</td>\n",
       "      <td>1.0</td>\n",
       "    </tr>\n",
       "    <tr>\n",
       "      <th>10</th>\n",
       "      <td>HGM example 4</td>\n",
       "      <td>isolated</td>\n",
       "      <td>MULTIPOLYGON Z (((467765.256 1064452.088 0.000...</td>\n",
       "      <td>1.0</td>\n",
       "    </tr>\n",
       "    <tr>\n",
       "      <th>11</th>\n",
       "      <td>HGM example 5</td>\n",
       "      <td>backwater</td>\n",
       "      <td>MULTIPOLYGON Z (((469171.028 1057232.622 0.000...</td>\n",
       "      <td>1.0</td>\n",
       "    </tr>\n",
       "    <tr>\n",
       "      <th>12</th>\n",
       "      <td>HGM example 5</td>\n",
       "      <td>flats</td>\n",
       "      <td>MULTIPOLYGON Z (((469283.804 1060608.373 0.000...</td>\n",
       "      <td>1.0</td>\n",
       "    </tr>\n",
       "  </tbody>\n",
       "</table>\n",
       "</div>"
      ],
      "text/plain": [
       "             Name    vegtype  \\\n",
       "0   HGM example 1  backwater   \n",
       "1   HGM example 1      flats   \n",
       "2   HGM example 1   isolated   \n",
       "4   HGM example 2  backwater   \n",
       "5   HGM example 2   isolated   \n",
       "6   HGM example 3  backwater   \n",
       "7   HGM example 3   overbank   \n",
       "8   HGM example 4  backwater   \n",
       "9   HGM example 4      flats   \n",
       "10  HGM example 4   isolated   \n",
       "11  HGM example 5  backwater   \n",
       "12  HGM example 5      flats   \n",
       "\n",
       "                                             geometry  value  \n",
       "0   MULTIPOLYGON Z (((481862.926 1076808.525 0.000...    1.0  \n",
       "1   POLYGON Z ((480221.647 1078235.383 0.000, 4802...    1.0  \n",
       "2   POLYGON Z ((480656.799 1077857.039 0.000, 4806...    1.0  \n",
       "4   MULTIPOLYGON Z (((483415.909 1071063.034 0.000...    1.0  \n",
       "5   MULTIPOLYGON Z (((484032.000 1069235.548 0.000...    1.0  \n",
       "6   MULTIPOLYGON Z (((483985.771 1061699.559 0.000...    1.0  \n",
       "7   MULTIPOLYGON Z (((483722.340 1061666.031 0.000...    1.0  \n",
       "8   MULTIPOLYGON Z (((468168.234 1062681.017 0.000...    1.0  \n",
       "9   MULTIPOLYGON Z (((468064.602 1062726.737 0.000...    1.0  \n",
       "10  MULTIPOLYGON Z (((467765.256 1064452.088 0.000...    1.0  \n",
       "11  MULTIPOLYGON Z (((469171.028 1057232.622 0.000...    1.0  \n",
       "12  MULTIPOLYGON Z (((469283.804 1060608.373 0.000...    1.0  "
      ]
     },
     "execution_count": 48,
     "metadata": {},
     "output_type": "execute_result"
    }
   ],
   "source": [
    "foiflood"
   ]
  },
  {
   "cell_type": "code",
   "execution_count": 50,
   "id": "c3debf78-7486-4d35-9a6c-9d9db1da630b",
   "metadata": {
    "tags": []
   },
   "outputs": [
    {
     "data": {
      "text/plain": [
       "\"\\nimport folium\\nm = foi.explore()\\n#woodypoly.explore(m=m, color='yellow')\\nfoiflood.explore(m=m, color='purple')\\nfolium.LayerControl().add_to(m) \\nm\\n\""
      ]
     },
     "execution_count": 50,
     "metadata": {},
     "output_type": "execute_result"
    }
   ],
   "source": [
    "'''\n",
    "import folium\n",
    "m = foi.explore()\n",
    "#woodypoly.explore(m=m, color='yellow')\n",
    "foiflood.explore(m=m, color='purple')\n",
    "folium.LayerControl().add_to(m) \n",
    "m\n",
    "'''"
   ]
  },
  {
   "cell_type": "code",
   "execution_count": 12,
   "id": "73331db5-fbda-47e0-9ba0-bff744705639",
   "metadata": {
    "tags": []
   },
   "outputs": [],
   "source": [
    "foiflood = foiflood.rename(columns={'value':'vfreq'})\n",
    "foiflood.to_parquet(os.path.join(workspace,savefile + '_vfreq.parquet'))"
   ]
  },
  {
   "cell_type": "code",
   "execution_count": null,
   "id": "954d2bd6-087e-44cd-bcee-b9dde5549c30",
   "metadata": {},
   "outputs": [],
   "source": []
  }
 ],
 "metadata": {
  "kernelspec": {
   "display_name": "Python 3 (ipykernel)",
   "language": "python",
   "name": "python3"
  },
  "language_info": {
   "codemirror_mode": {
    "name": "ipython",
    "version": 3
   },
   "file_extension": ".py",
   "mimetype": "text/x-python",
   "name": "python",
   "nbconvert_exporter": "python",
   "pygments_lexer": "ipython3",
   "version": "3.10.13"
  }
 },
 "nbformat": 4,
 "nbformat_minor": 5
}
